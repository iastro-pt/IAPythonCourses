{
 "cells": [
  {
   "cell_type": "markdown",
   "metadata": {},
   "source": [
    "# Python course for Astronomers\n",
    "\n",
    "## Instructors:\n",
    "\n",
    "- André Silva [amiguel@astro.up.pt]\n",
    "- Jorge Martins [Jorge.Martins@astro.up.pt]\n",
    "\n",
    "## Schedule:\n",
    "\n",
    "- 4-4 of March from 10h30 to 12:30\n",
    "\n",
    "## Topics:\n",
    "1. General Overview\t(A. Silva)\n",
    "\t- basic Python\n",
    "\t- basic file and data manipulation\n",
    "\t- exception handling\n",
    "\n",
    "2. Scientific Python  (J. Martins)\n",
    "\t- scientific file and data manipulation\n",
    "\t- scientific libraries\n",
    "\n",
    "3. Data visualization (J. Martins)\n",
    "\t- on the shell\n",
    "\t- logger\n",
    "\t- plots and graphs\n",
    "\n",
    "4. Advanced Python (A. Silva)\n",
    "\t- multiprocessing\n",
    "\t- advanced data manipulation\n"
   ]
  },
  {
   "cell_type": "markdown",
   "metadata": {},
   "source": [
    "# Basic operations\n",
    "\n",
    "This part of the notebook deals with the creation of variables and (simple) operations"
   ]
  },
  {
   "cell_type": "code",
   "execution_count": 1,
   "metadata": {},
   "outputs": [
    {
     "name": "stdout",
     "output_type": "stream",
     "text": [
      "1 2\n"
     ]
    }
   ],
   "source": [
    "\"\"\"\n",
    "Creating variables and comparing their values\n",
    "\"\"\"\n",
    "\n",
    "foo = 1\n",
    "bar = 2 \n",
    "\n",
    "print(foo, bar)"
   ]
  },
  {
   "cell_type": "code",
   "execution_count": 32,
   "metadata": {},
   "outputs": [
    {
     "name": "stdout",
     "output_type": "stream",
     "text": [
      "False False True True\n"
     ]
    }
   ],
   "source": [
    "\"\"\"\n",
    "Comparing variables\n",
    "\"\"\"\n",
    "\n",
    "foo = 1\n",
    "bar = 2\n",
    "\n",
    "# The output of a comparison will be a boolen: True / False\n",
    "print(foo == bar, foo >= bar, foo <= bar, foo != bar)\n"
   ]
  },
  {
   "cell_type": "code",
   "execution_count": 33,
   "metadata": {},
   "outputs": [
    {
     "name": "stdout",
     "output_type": "stream",
     "text": [
      "2\n",
      "4\n",
      "16\n"
     ]
    }
   ],
   "source": [
    "\"\"\"\n",
    "Summing a value to a (numerical) variable.\n",
    "If we are simply increasing the value by a constant, we can use the += notation.\n",
    "\n",
    "The same can be used for other operations:\n",
    "\n",
    "- multiplication : foo = foo * 2   ; foo *= 2\n",
    "- division       : foo = foo/2     ; foo /= 2\n",
    "- and so on\n",
    "\"\"\"\n",
    "\n",
    "foo = 1\n",
    "foo = foo + 1\n",
    "print(foo)\n",
    "\n",
    "foo += 2\n",
    "print(foo)\n",
    "\n",
    "bar = 1\n",
    "print(foo*(bar + 3))\n",
    "\n"
   ]
  },
  {
   "cell_type": "code",
   "execution_count": 34,
   "metadata": {},
   "outputs": [
    {
     "name": "stdout",
     "output_type": "stream",
     "text": [
      "4\n"
     ]
    }
   ],
   "source": [
    "\"\"\"\n",
    "To raise a number to an exponent we use the **\n",
    "\"\"\"\n",
    "\n",
    "foo = 2 \n",
    "print(foo**2)"
   ]
  },
  {
   "cell_type": "markdown",
   "metadata": {},
   "source": [
    "## Handling Text"
   ]
  },
  {
   "cell_type": "code",
   "execution_count": 35,
   "metadata": {},
   "outputs": [],
   "source": [
    "\"\"\"\n",
    "Strings, in Python, are surrounded either by ticks (') or doubleticks (''). We can also use triple-ticks ('''), but those are typically\n",
    "used for other purpose (discussed further ahead)\n",
    "\"\"\"\n",
    "\n",
    "foo = \"Hello\"\n"
   ]
  },
  {
   "cell_type": "code",
   "execution_count": 36,
   "metadata": {},
   "outputs": [
    {
     "name": "stdout",
     "output_type": "stream",
     "text": [
      "Hello World\n"
     ]
    }
   ],
   "source": [
    "# We can add a string to another string: \n",
    "bar = 'Hello'\n",
    "foo = ' World'\n",
    "print(bar + foo)"
   ]
  },
  {
   "cell_type": "code",
   "execution_count": 37,
   "metadata": {},
   "outputs": [
    {
     "name": "stdout",
     "output_type": "stream",
     "text": [
      "aaa\n"
     ]
    }
   ],
   "source": [
    "# and multiply it with a number: \n",
    "bar = 'a'*3\n",
    "print(bar)"
   ]
  },
  {
   "cell_type": "code",
   "execution_count": 38,
   "metadata": {},
   "outputs": [
    {
     "name": "stdout",
     "output_type": "stream",
     "text": [
      "Hello\n",
      "World\n"
     ]
    }
   ],
   "source": [
    "# and create new lines:\n",
    "print(\"Hello\\nWorld\")\n"
   ]
  },
  {
   "cell_type": "code",
   "execution_count": 39,
   "metadata": {},
   "outputs": [
    {
     "name": "stdout",
     "output_type": "stream",
     "text": [
      "First letter is: H\n",
      "Second letter is: e\n"
     ]
    }
   ],
   "source": [
    "# We can access each letter individually:\n",
    "foo = 'Hello'\n",
    "print(\"First letter is: \" + foo[0])\n",
    "print(\"Second letter is: \" + foo[1])"
   ]
  },
  {
   "cell_type": "code",
   "execution_count": 40,
   "metadata": {},
   "outputs": [
    {
     "name": "stdout",
     "output_type": "stream",
     "text": [
      "The number is 2\n"
     ]
    }
   ],
   "source": [
    "\"\"\"\n",
    "What if we want to introduce a number in our string:\n",
    "\"\"\"\n",
    "\n",
    "# We can use the str function:\n",
    "bar = 2\n",
    "foo = 'The number is ' + str(bar)\n",
    "\n",
    "print(foo)\n"
   ]
  },
  {
   "cell_type": "code",
   "execution_count": 41,
   "metadata": {},
   "outputs": [
    {
     "name": "stdout",
     "output_type": "stream",
     "text": [
      "The number is Not a number\n"
     ]
    }
   ],
   "source": [
    "bar = 'Not a number'\n",
    "foo = \"The number is {}\".format(bar)\n",
    "print(foo)"
   ]
  },
  {
   "cell_type": "code",
   "execution_count": 42,
   "metadata": {},
   "outputs": [
    {
     "name": "stdout",
     "output_type": "stream",
     "text": [
      "The number is 2.000\n"
     ]
    }
   ],
   "source": [
    "\"\"\"\n",
    "And we can control the number of decimal places:\n",
    "\"\"\"\n",
    "\n",
    "bar = 2\n",
    "foo = \"The number is {:.3f}\".format(bar)\n",
    "print(foo)\n"
   ]
  },
  {
   "cell_type": "code",
   "execution_count": 43,
   "metadata": {},
   "outputs": [
    {
     "name": "stdout",
     "output_type": "stream",
     "text": [
      "The number is 2 // 2 1\n"
     ]
    }
   ],
   "source": [
    "# and how many times it appears:\n",
    "data = 1\n",
    "foo = \"The number is {0} // {0} {1}\".format(bar, data)\n",
    "print(foo)\n"
   ]
  },
  {
   "cell_type": "code",
   "execution_count": 44,
   "metadata": {},
   "outputs": [
    {
     "name": "stdout",
     "output_type": "stream",
     "text": [
      "The number is 1.10 and the integer part is 1\n"
     ]
    }
   ],
   "source": [
    "\n",
    "# introduce a different number of variables of different types \n",
    "# and control where they appear\n",
    "foo = 'The number is'\n",
    "bar = 1.1\n",
    "\n",
    "foobar = '{0} {1:.2f} and the integer part is {1:.0f}'.format(foo,bar)\n",
    "print(foobar)\n"
   ]
  },
  {
   "cell_type": "code",
   "execution_count": 45,
   "metadata": {},
   "outputs": [
    {
     "name": "stdout",
     "output_type": "stream",
     "text": [
      "1.00\n"
     ]
    }
   ],
   "source": [
    "\"\"\"\n",
    "For newer versions of Python (Python3.6 and newer) we can use the f-strings to do the same as the .format()\n",
    "\"\"\"\n",
    "foo = 1\n",
    "bar = f\"{foo:.2f}\"\n",
    "print(bar)"
   ]
  },
  {
   "cell_type": "code",
   "execution_count": 46,
   "metadata": {},
   "outputs": [
    {
     "name": "stdout",
     "output_type": "stream",
     "text": [
      "['Hello ', ' World']\n"
     ]
    }
   ],
   "source": [
    "\"\"\"\n",
    "Processing strings\n",
    "\"\"\"\n",
    "\n",
    "foo = 'Hello , World'\n",
    "print(foo.split(','))\n"
   ]
  },
  {
   "cell_type": "code",
   "execution_count": 47,
   "metadata": {},
   "outputs": [
    {
     "name": "stdout",
     "output_type": "stream",
     "text": [
      "['', ' Hello ', '\\\\ World!', '']\n"
     ]
    }
   ],
   "source": [
    "\"\"\"\n",
    "If the split location exists multiple times, then each one is \"separated\"\n",
    "\"\"\"\n",
    "foo = '\\n Hello \\n\\ World!\\n'\n",
    "print(foo.split('\\n'))"
   ]
  },
  {
   "cell_type": "code",
   "execution_count": 48,
   "metadata": {},
   "outputs": [
    {
     "name": "stdout",
     "output_type": "stream",
     "text": [
      "| Hello \n",
      "\n",
      "|Hello\n"
     ]
    }
   ],
   "source": [
    "\"\"\"\n",
    "To easily remove the whitespaces at the edge of a string we can use the .strip() functions\n",
    "\"\"\"\n",
    "foo = ' Hello '\n",
    "print('|' + foo)\n",
    "print('\\n|' + foo.strip())"
   ]
  },
  {
   "cell_type": "markdown",
   "metadata": {},
   "source": [
    "## Conditions\n",
    "\n",
    "The if conditions evaluate a given condition and, depending on the result, execute different code"
   ]
  },
  {
   "cell_type": "code",
   "execution_count": 49,
   "metadata": {},
   "outputs": [
    {
     "name": "stdout",
     "output_type": "stream",
     "text": [
      "Condition foo was met\n"
     ]
    }
   ],
   "source": [
    "foo = True \n",
    "\n",
    "if foo:\n",
    "    print(\"Condition foo was met\")\n",
    "else:\n",
    "    print(\"Condition was not met\")\n"
   ]
  },
  {
   "cell_type": "code",
   "execution_count": 50,
   "metadata": {},
   "outputs": [
    {
     "name": "stdout",
     "output_type": "stream",
     "text": [
      "bar\n"
     ]
    }
   ],
   "source": [
    "\n",
    "# it is possible to setup consecutive comparisons:\n",
    "foo = False\n",
    "bar = True \n",
    "\n",
    "if foo:\n",
    "    print(\"foo\")\n",
    "elif bar:\n",
    "    print('bar')\n",
    "else:\n",
    "    print(\"Something else\")"
   ]
  },
  {
   "cell_type": "code",
   "execution_count": 5,
   "metadata": {},
   "outputs": [
    {
     "name": "stdout",
     "output_type": "stream",
     "text": [
      "Hello\n"
     ]
    }
   ],
   "source": [
    "# what if we want the code to execute if the condition is not met ? \n",
    "foo = 1\n",
    "bar = 2 \n",
    "\n",
    "if not foo == bar:\n",
    "    print('Hello')\n",
    "\n"
   ]
  },
  {
   "cell_type": "code",
   "execution_count": 52,
   "metadata": {},
   "outputs": [
    {
     "name": "stdout",
     "output_type": "stream",
     "text": [
      "One of the conditions is met\n"
     ]
    }
   ],
   "source": [
    "\"\"\"\n",
    "Chaining conditions can be mainly done with two different operators:\n",
    "- and\n",
    "- or\n",
    "\"\"\"\n",
    "\n",
    "proceed = True\n",
    "foo = 1\n",
    "bar = 2\n",
    "\n",
    "# The two conditions must be met to be accepted\n",
    "if all((foo == bar, proceed)):\n",
    "    print(\"Conditions are met\")\n",
    "\n",
    "# Any of the two conditions can be met to enter the 'if'\n",
    "if any((foo == bar, proceed)):\n",
    "    print(\"One of the conditions is met\")\n",
    "\n"
   ]
  },
  {
   "cell_type": "markdown",
   "metadata": {},
   "source": [
    "## Data types"
   ]
  },
  {
   "cell_type": "code",
   "execution_count": 53,
   "metadata": {},
   "outputs": [
    {
     "name": "stdout",
     "output_type": "stream",
     "text": [
      "<class 'int'>\n",
      "<class 'str'>\n",
      "<class 'float'>\n"
     ]
    }
   ],
   "source": [
    "\"\"\"\n",
    "Finding the data type of a given variable:\n",
    "\n",
    "\"\"\"\n",
    "\n",
    "foo = 1 \n",
    "print(type(foo))\n",
    "\n",
    "bar = 'Hello'\n",
    "print(type(bar))\n",
    "\n",
    "foobar = 1.0\n",
    "print(type(foobar))\n"
   ]
  },
  {
   "cell_type": "code",
   "execution_count": 54,
   "metadata": {},
   "outputs": [
    {
     "name": "stdout",
     "output_type": "stream",
     "text": [
      "True\n",
      "False\n",
      "True\n"
     ]
    }
   ],
   "source": [
    "\"\"\"\n",
    "Finding if a variable is of a given data type can be done with the comparison operator (==). However, there is a better way\n",
    "\"\"\"\n",
    "\n",
    "foo = 1 \n",
    "print(isinstance(foo, int))\n",
    "print(isinstance(foo, str))\n",
    "print(isinstance(1.2, (int, float)))\n"
   ]
  },
  {
   "cell_type": "code",
   "execution_count": 3,
   "metadata": {},
   "outputs": [
    {
     "name": "stdout",
     "output_type": "stream",
     "text": [
      "True\n",
      "True\n",
      "True\n"
     ]
    }
   ],
   "source": [
    "\"\"\"\n",
    "We can also use the /typing/ module to check for data types, e.g. check if an object is an iterable\n",
    "\"\"\"\n",
    "from typing import Iterable\n",
    "\n",
    "print(isinstance((1,2), Iterable))\n",
    "print(isinstance([1,2], Iterable))\n",
    "print(isinstance({\"key\": \"value\"}, Iterable))"
   ]
  },
  {
   "cell_type": "markdown",
   "metadata": {},
   "source": [
    "## Data structures: lists & tuples\n",
    "\n",
    "Lists, [],  and tuples, (), are used to store multiple items in a single variable (with a few differences between them both)."
   ]
  },
  {
   "cell_type": "code",
   "execution_count": 55,
   "metadata": {},
   "outputs": [
    {
     "name": "stdout",
     "output_type": "stream",
     "text": [
      "<class 'list'> <class 'tuple'>\n",
      "Number of elements: x has 4 and y has 4\n"
     ]
    }
   ],
   "source": [
    "\n",
    "x = [1, 2, 3, 4]   # list\n",
    "y = (1, 2, 3, 4)   # tuple\n",
    "\n",
    "print(type(x), type(y))\n",
    "\n",
    "# counting the number of elements:\n",
    "print(\"Number of elements: x has {} and y has {}\".format(len(x), len(y)))\n"
   ]
  },
  {
   "cell_type": "code",
   "execution_count": 56,
   "metadata": {},
   "outputs": [
    {
     "name": "stdout",
     "output_type": "stream",
     "text": [
      "1 4 4\n",
      "1 4 4\n"
     ]
    }
   ],
   "source": [
    "x = [1, 2, 3, 4]   # list\n",
    "y = (1, 2, 3, 4)   # tuple\n",
    "\n",
    "# accessing the elements can be done through their index (zero for the first entry)\n",
    "print(x[0], x[-1], x[3])\n",
    "print(y[0], y[-1], y[3])\n"
   ]
  },
  {
   "cell_type": "code",
   "execution_count": 57,
   "metadata": {},
   "outputs": [
    {
     "name": "stdout",
     "output_type": "stream",
     "text": [
      "['a', 2, 3, 4]\n"
     ]
    },
    {
     "ename": "TypeError",
     "evalue": "'tuple' object does not support item assignment",
     "output_type": "error",
     "traceback": [
      "\u001b[0;31m---------------------------------------------------------------------------\u001b[0m",
      "\u001b[0;31mTypeError\u001b[0m                                 Traceback (most recent call last)",
      "\u001b[0;32m/tmp/ipykernel_12043/2252580552.py\u001b[0m in \u001b[0;36m<module>\u001b[0;34m\u001b[0m\n\u001b[1;32m      6\u001b[0m \u001b[0mprint\u001b[0m\u001b[0;34m(\u001b[0m\u001b[0mx\u001b[0m\u001b[0;34m)\u001b[0m\u001b[0;34m\u001b[0m\u001b[0;34m\u001b[0m\u001b[0m\n\u001b[1;32m      7\u001b[0m \u001b[0;34m\u001b[0m\u001b[0m\n\u001b[0;32m----> 8\u001b[0;31m \u001b[0my\u001b[0m\u001b[0;34m[\u001b[0m\u001b[0;36m0\u001b[0m\u001b[0;34m]\u001b[0m \u001b[0;34m=\u001b[0m \u001b[0;34m'1'\u001b[0m\u001b[0;34m\u001b[0m\u001b[0;34m\u001b[0m\u001b[0m\n\u001b[0m",
      "\u001b[0;31mTypeError\u001b[0m: 'tuple' object does not support item assignment"
     ]
    }
   ],
   "source": [
    "\n",
    "x = [1, 2, 3, 4]   # list\n",
    "y = (1, 2, 3, 4)   # tuple\n",
    "\n",
    "# the main difference between lists and tuples is that the later are read-only\n",
    "x[0] = 'a'\n",
    "print(x)\n",
    "\n",
    "y[0] = '1'"
   ]
  },
  {
   "cell_type": "code",
   "execution_count": 58,
   "metadata": {},
   "outputs": [
    {
     "name": "stdout",
     "output_type": "stream",
     "text": [
      "[1, 2, 3, 'a']\n"
     ]
    }
   ],
   "source": [
    "\"\"\"\n",
    "Adding more elements to the list\n",
    "\"\"\"\n",
    "\n",
    "foo = [1,2,3] \n",
    "\n",
    "# inserting at an arbitrary index:\n",
    "foo.insert(6, 'a')\n",
    "print(foo)\n"
   ]
  },
  {
   "cell_type": "code",
   "execution_count": 59,
   "metadata": {},
   "outputs": [
    {
     "name": "stdout",
     "output_type": "stream",
     "text": [
      "[4]\n",
      "[4, 3]\n"
     ]
    }
   ],
   "source": [
    "\n",
    "foo = []\n",
    "# add to the end of the list\n",
    "foo.append(4)\n",
    "print(foo)\n",
    "foo.append(3)\n",
    "print(foo)\n"
   ]
  },
  {
   "cell_type": "code",
   "execution_count": 60,
   "metadata": {},
   "outputs": [
    {
     "name": "stdout",
     "output_type": "stream",
     "text": [
      "[1, 'a', 'b']\n",
      "[1, 'a', 'b']\n"
     ]
    }
   ],
   "source": [
    "foo = [1] \n",
    "\n",
    "# will not change the original 'foo' list\n",
    "bar = foo + ['a','b']\n",
    "\n",
    "print(bar)\n",
    "\n",
    "# will place the two elements to the end of the 'foo' list\n",
    "foo.extend(['a', 'b'])\n",
    "print(foo)"
   ]
  },
  {
   "cell_type": "code",
   "execution_count": 61,
   "metadata": {},
   "outputs": [
    {
     "name": "stdout",
     "output_type": "stream",
     "text": [
      "[5, 6, 8] no longer has an entry of 7\n"
     ]
    }
   ],
   "source": [
    "\"\"\"\n",
    "Removing data from the lists can be done through two ways:\n",
    "    - .pop(index)\n",
    "        -> Will throw an error if the index is out of bounds\n",
    "    - .remove(value)    \n",
    "        -> Will thrown an error if the value does not exist\n",
    "\"\"\"\n",
    "\n",
    "# pop removes the value on the given index. If no index is passed, then it removes the last entry\n",
    "foo = [5,6,7,8]\n",
    "removed = foo.pop(2)\n",
    "print(f\"{foo} no longer has an entry of {removed}\")\n",
    "\n"
   ]
  },
  {
   "cell_type": "code",
   "execution_count": 62,
   "metadata": {},
   "outputs": [
    {
     "name": "stdout",
     "output_type": "stream",
     "text": [
      "[4, 5, 7, 6]\n"
     ]
    },
    {
     "ename": "ValueError",
     "evalue": "list.remove(x): x not in list",
     "output_type": "error",
     "traceback": [
      "\u001b[0;31m---------------------------------------------------------------------------\u001b[0m",
      "\u001b[0;31mValueError\u001b[0m                                Traceback (most recent call last)",
      "\u001b[0;32m/tmp/ipykernel_12043/2536107995.py\u001b[0m in \u001b[0;36m<module>\u001b[0;34m\u001b[0m\n\u001b[1;32m      3\u001b[0m \u001b[0mbar\u001b[0m\u001b[0;34m.\u001b[0m\u001b[0mremove\u001b[0m\u001b[0;34m(\u001b[0m\u001b[0;36m6\u001b[0m\u001b[0;34m)\u001b[0m\u001b[0;34m\u001b[0m\u001b[0;34m\u001b[0m\u001b[0m\n\u001b[1;32m      4\u001b[0m \u001b[0mprint\u001b[0m\u001b[0;34m(\u001b[0m\u001b[0mbar\u001b[0m\u001b[0;34m)\u001b[0m\u001b[0;34m\u001b[0m\u001b[0;34m\u001b[0m\u001b[0m\n\u001b[0;32m----> 5\u001b[0;31m \u001b[0mbar\u001b[0m\u001b[0;34m.\u001b[0m\u001b[0mremove\u001b[0m\u001b[0;34m(\u001b[0m\u001b[0;36m10\u001b[0m\u001b[0;34m)\u001b[0m\u001b[0;34m\u001b[0m\u001b[0;34m\u001b[0m\u001b[0m\n\u001b[0m",
      "\u001b[0;31mValueError\u001b[0m: list.remove(x): x not in list"
     ]
    }
   ],
   "source": [
    "# We can remove a given value from the list. However, the values that was removed is not returned\n",
    "bar = [4,5,6,7, 6]\n",
    "bar.remove(6)\n",
    "print(bar)\n",
    "bar.remove(10)"
   ]
  },
  {
   "cell_type": "code",
   "execution_count": 63,
   "metadata": {},
   "outputs": [
    {
     "name": "stdout",
     "output_type": "stream",
     "text": [
      "True False False\n",
      "0\n"
     ]
    },
    {
     "ename": "ValueError",
     "evalue": "'B' is not in list",
     "output_type": "error",
     "traceback": [
      "\u001b[0;31m---------------------------------------------------------------------------\u001b[0m",
      "\u001b[0;31mValueError\u001b[0m                                Traceback (most recent call last)",
      "\u001b[0;32m/tmp/ipykernel_12043/894219081.py\u001b[0m in \u001b[0;36m<module>\u001b[0;34m\u001b[0m\n\u001b[1;32m      9\u001b[0m \u001b[0;31m# To find the index in which the element is stored we can use the '.index'. It will raise an error if the entry does not exist\u001b[0m\u001b[0;34m\u001b[0m\u001b[0;34m\u001b[0m\u001b[0;34m\u001b[0m\u001b[0m\n\u001b[1;32m     10\u001b[0m \u001b[0mprint\u001b[0m\u001b[0;34m(\u001b[0m\u001b[0mfoo\u001b[0m\u001b[0;34m.\u001b[0m\u001b[0mindex\u001b[0m\u001b[0;34m(\u001b[0m\u001b[0;34m'a'\u001b[0m\u001b[0;34m)\u001b[0m\u001b[0;34m)\u001b[0m\u001b[0;34m\u001b[0m\u001b[0;34m\u001b[0m\u001b[0m\n\u001b[0;32m---> 11\u001b[0;31m \u001b[0mprint\u001b[0m\u001b[0;34m(\u001b[0m\u001b[0mfoo\u001b[0m\u001b[0;34m.\u001b[0m\u001b[0mindex\u001b[0m\u001b[0;34m(\u001b[0m\u001b[0;34m'B'\u001b[0m\u001b[0;34m)\u001b[0m\u001b[0;34m)\u001b[0m\u001b[0;34m\u001b[0m\u001b[0;34m\u001b[0m\u001b[0m\n\u001b[0m",
      "\u001b[0;31mValueError\u001b[0m: 'B' is not in list"
     ]
    }
   ],
   "source": [
    "\"\"\"\n",
    "Searching for data in a list\n",
    "\"\"\"\n",
    "\n",
    "foo = ['a', 'b', 'c']\n",
    "# to confirm if an entry exists in a list we can use the 'in'\n",
    "print(\"a\" in foo, 'at' in foo, 'C' in foo)\n",
    "\n",
    "# To find the index in which the element is stored we can use the '.index'. It will raise an error if the entry does not exist\n",
    "print(foo.index('a'))\n",
    "print(foo.index('B'))"
   ]
  },
  {
   "cell_type": "code",
   "execution_count": 64,
   "metadata": {},
   "outputs": [
    {
     "name": "stdout",
     "output_type": "stream",
     "text": [
      "Skipping the first element [2, 3, 4, 5, 6, 7, 8, 9, 10]\n",
      "Skipping the last element  [1, 2, 3, 4, 5, 6, 7, 8, 9]\n",
      "Skipping the last element  [1, 2, 3, 4, 5, 6, 7, 8, 9]\n",
      "Skipping odd indexes [1, 3, 5, 7, 9]\n",
      "Revering the list [10, 9, 8, 7, 6, 5, 4, 3, 2, 1]\n"
     ]
    }
   ],
   "source": [
    "\"\"\"\n",
    "Other ways of accessing data in a list : slicing\n",
    "\n",
    "Note:  (the same can be done to a set)\n",
    "\n",
    "We can use <list>[start:end:step] to select all elements from index start to index end-1\n",
    "The default values are:\n",
    "    start -> 0 \n",
    "    end -> N\n",
    "    step -> 1\n",
    "\"\"\"\n",
    "\n",
    "foo = [1,2,3,4,5,6,7,8,9,10]\n",
    "\n",
    "# all elements except the first\n",
    "print(\"Skipping the first element\", foo[1:])\n",
    "\n",
    "# all elements except the last:\n",
    "print(\"Skipping the last element \", foo[:len(foo) - 1])\n",
    "print(\"Skipping the last element \", foo[:-1])\n",
    "\n",
    "# every second element:\n",
    "print(\"Skipping odd indexes\", foo[::2])\n",
    "\n",
    "# reversing a list:\n",
    "print(\"Revering the list\", foo[::-1])"
   ]
  },
  {
   "cell_type": "markdown",
   "metadata": {},
   "source": [
    "## Cycles (for / while)\n",
    "\n",
    "There are many actions that can be automated, e.g.:\n",
    "\n",
    "- Accessing every element in a list\n",
    "- Calculate the result of a given equation for different values\n",
    "- ... \n",
    "\n",
    "By using a cycle we can easily solve such problems"
   ]
  },
  {
   "cell_type": "code",
   "execution_count": 5,
   "metadata": {},
   "outputs": [
    {
     "name": "stdout",
     "output_type": "stream",
     "text": [
      "0\n",
      "1\n",
      "2\n",
      "3\n",
      "4\n",
      "5\n",
      "6\n",
      "7\n",
      "8\n",
      "9\n"
     ]
    }
   ],
   "source": [
    "\"\"\"\n",
    "A while cycle continues until the condition is met or the cycle is broken (i.e. with a break statement)\n",
    "\"\"\"\n",
    "\n",
    "stop = False \n",
    "count = 0 \n",
    "\n",
    "while not stop:\n",
    "    print(count)\n",
    "    count += 1\n",
    "    if count == 10:\n",
    "        stop = True        "
   ]
  },
  {
   "cell_type": "code",
   "execution_count": 66,
   "metadata": {},
   "outputs": [
    {
     "name": "stdout",
     "output_type": "stream",
     "text": [
      "0\n",
      "1\n",
      "2\n",
      "3\n",
      "4\n",
      "5\n",
      "6\n",
      "7\n",
      "8\n",
      "9\n"
     ]
    }
   ],
   "source": [
    "\"\"\"\n",
    "The 'for' cycle processes the information that comes after the 'in' and only stops after it is done or the cycle is broken.\n",
    "\n",
    "The 'range' function creates a list of numbers that go from a starting value (default of zero) up to N-1, using an integer step (default of 1)\n",
    "\"\"\"\n",
    "\n",
    "for i in range(10):\n",
    "    print(i)\n"
   ]
  },
  {
   "cell_type": "code",
   "execution_count": 68,
   "metadata": {},
   "outputs": [
    {
     "name": "stdout",
     "output_type": "stream",
     "text": [
      "2\n",
      "4\n",
      "6\n",
      "8\n"
     ]
    }
   ],
   "source": [
    "for i in range(2,10,2):\n",
    "    print(i)"
   ]
  },
  {
   "cell_type": "code",
   "execution_count": 67,
   "metadata": {},
   "outputs": [
    {
     "name": "stdout",
     "output_type": "stream",
     "text": [
      "In cycle: 2\n",
      "In cycle: 3\n",
      "In cycle: 4\n",
      "\n",
      "After cycle: 4\n"
     ]
    }
   ],
   "source": [
    "\"\"\"\n",
    "After the cycle is over, the variable that is used for the iteration still holds the previous value:\n",
    "\"\"\"\n",
    "for i in range(2,5):\n",
    "    print(\"In cycle: {}\".format(i))\n",
    "print(\"\\nAfter cycle: {}\".format(i))"
   ]
  },
  {
   "cell_type": "code",
   "execution_count": 69,
   "metadata": {},
   "outputs": [
    {
     "name": "stdout",
     "output_type": "stream",
     "text": [
      "Breaking the cycle at the value of 2:\n",
      "\n",
      "0\n",
      "1\n"
     ]
    }
   ],
   "source": [
    "\"\"\"\n",
    "What if we want to immediately stop the cycle or skip iterations:\n",
    "- continue - skip to the next iteration\n",
    "- break - completely stop the cycle\n",
    "- pass - does nothing\n",
    "\"\"\"\n",
    "\n",
    "print(\"Breaking the cycle at the value of 2:\\n\")\n",
    "for i in range(5):\n",
    "    if i == 2:\n",
    "        break\n",
    "    print(i)"
   ]
  },
  {
   "cell_type": "code",
   "execution_count": 70,
   "metadata": {},
   "outputs": [
    {
     "name": "stdout",
     "output_type": "stream",
     "text": [
      "\n",
      "Skipping even values:\n",
      "\n",
      "1\n",
      "3\n",
      "5\n",
      "7\n",
      "9\n"
     ]
    }
   ],
   "source": [
    "print(\"\\nSkipping even values:\\n\")\n",
    "\n",
    "for i in range(11):\n",
    "    if i % 2 == 0: # remainder of division by two\n",
    "        continue\n",
    "    print(i)\n"
   ]
  },
  {
   "cell_type": "code",
   "execution_count": 71,
   "metadata": {},
   "outputs": [
    {
     "name": "stdout",
     "output_type": "stream",
     "text": [
      "\n",
      "Only printing even values\n",
      "0\n",
      "2\n",
      "4\n",
      "6\n",
      "8\n",
      "10\n"
     ]
    }
   ],
   "source": [
    "\n",
    "# Only prints the even values\n",
    "print(\"\\nOnly printing even values\")\n",
    "for i in range(11):\n",
    "    if i % 2 == 0: # remainder of division by two\n",
    "        print(i)\n",
    "    else: # \n",
    "        pass"
   ]
  },
  {
   "cell_type": "code",
   "execution_count": 72,
   "metadata": {},
   "outputs": [
    {
     "name": "stdout",
     "output_type": "stream",
     "text": [
      "a\n",
      "b\n",
      "c\n",
      "d\n"
     ]
    }
   ],
   "source": [
    "\"\"\"\n",
    "Using 'for' cycles to access data in lists can be done through different ways\n",
    "\"\"\"\n",
    "\n",
    "foo = ['a', 'b', 'c', 'd']\n",
    "\n",
    "for item in foo:\n",
    "    print(item)"
   ]
  },
  {
   "cell_type": "code",
   "execution_count": 73,
   "metadata": {},
   "outputs": [
    {
     "name": "stdout",
     "output_type": "stream",
     "text": [
      "Accessing pair\n",
      "(0, 0) 0\n",
      "(1, 0) 1\n",
      "\n",
      "Accessing individual elements\n",
      "0 0\n",
      "1 0\n"
     ]
    }
   ],
   "source": [
    "\"\"\"\n",
    "IN cases where the data in the list is not an integer/float but is, instead, a tuple or a list we can choose to work with\n",
    "the tuple/list or with the data inside it. IN the second case we must be carefull of the number of elements in each entry of the list\n",
    "\"\"\"\n",
    "coordinates = [(0,0), (1,0)]\n",
    "\n",
    "print(\"Accessing pair\")\n",
    "for pair in coordinates:\n",
    "    print(pair, pair[0])\n",
    "\n",
    "print(\"\\nAccessing individual elements\")\n",
    "# We must define two coordinates as each pair of positions in the coordinates list has two elements\n",
    "# if there were more elements we would have to declare more variables\n",
    "for x, y in coordinates:\n",
    "    print(x, y)"
   ]
  },
  {
   "cell_type": "code",
   "execution_count": 74,
   "metadata": {},
   "outputs": [
    {
     "name": "stdout",
     "output_type": "stream",
     "text": [
      "Option a):\n",
      "\n",
      "\tIndex: 0; Value : a\n",
      "\tIndex: 1; Value : b\n",
      "\tIndex: 2; Value : c\n"
     ]
    }
   ],
   "source": [
    "\"\"\"\n",
    "In cases where we want both the value of the list element and its index we can use two different approaches:\n",
    "\n",
    "a) Use a 'range' over the 'len' of the initial list\n",
    "b) Create an extra variable that is increased in each iteration (not usefull to do so)\n",
    "c) use the enumerate function\n",
    "\n",
    "Typically option c) results in less accesses to the data in the 'foo' list, which might represent a significant performance difference for large lists\n",
    "\"\"\"\n",
    "\n",
    "foo = ['a', 'b', 'c']\n",
    "\n",
    "print(\"Option a):\\n\")\n",
    "for index in range(len(foo)):\n",
    "    print(f\"\\tIndex: {index}; Value : {foo[index]}\")\n"
   ]
  },
  {
   "cell_type": "code",
   "execution_count": 75,
   "metadata": {},
   "outputs": [
    {
     "name": "stdout",
     "output_type": "stream",
     "text": [
      "\n",
      "Option c):\n",
      "\n",
      "\tIndex: 0; Value : a\n",
      "\tIndex: 1; Value : b\n",
      "\tIndex: 2; Value : c\n"
     ]
    }
   ],
   "source": [
    "foo = ['a', 'b', 'c']\n",
    "print(\"\\nOption c):\\n\")\n",
    "\n",
    "for index, value in enumerate(foo):\n",
    "    print(f\"\\tIndex: {index}; Value : {value}\")\n"
   ]
  },
  {
   "cell_type": "markdown",
   "metadata": {},
   "source": [
    "## List comprehensions"
   ]
  },
  {
   "cell_type": "code",
   "execution_count": 76,
   "metadata": {},
   "outputs": [
    {
     "name": "stdout",
     "output_type": "stream",
     "text": [
      "[0, 1, 2, 3, 4, 5, 6, 7, 8, 9]\n",
      "[0, 1, 2, 3, 4, 5, 6, 7, 8, 9]\n"
     ]
    }
   ],
   "source": [
    "\"\"\"\n",
    "It is also possible to shorten the 'for' cycles to a single line with \"list comprehensions\".\n",
    "\"\"\"\n",
    "foo = [] \n",
    "for i in range(10):\n",
    "    foo.append(i)\n",
    "print(foo)\n",
    "\n",
    "foo = [i for i in range(10)]\n",
    "print(foo)\n"
   ]
  },
  {
   "cell_type": "code",
   "execution_count": 77,
   "metadata": {},
   "outputs": [
    {
     "name": "stdout",
     "output_type": "stream",
     "text": [
      "[0, None, 2, None, 4, None, 6, None, 8, None]\n"
     ]
    }
   ],
   "source": [
    "\"\"\"\n",
    "And it is also possible to include basic if/else statements in them\n",
    "\"\"\"\n",
    "\n",
    "foo = [i if i%2 == 0 else None for i in range(10)]\n",
    "print(foo)"
   ]
  },
  {
   "cell_type": "markdown",
   "metadata": {},
   "source": [
    "## Data structures: Dictionaries\n",
    "\n",
    "Dictionaries are data structures that can be used to store data that can be accessed through Keywords (refered to as 'keys').\n",
    "\n",
    "The keys must be either a number (float/int) or a string. Lists/tuples/... are not accepted as valid keys and will result in errors\n",
    "    \n"
   ]
  },
  {
   "cell_type": "code",
   "execution_count": 78,
   "metadata": {},
   "outputs": [
    {
     "name": "stdout",
     "output_type": "stream",
     "text": [
      "{'foo': 1}\n"
     ]
    }
   ],
   "source": [
    "\"\"\"\n",
    "Dictionaries are defined withg curly braces, using ':' to separate the 'key' (foo) and the value (1) that will be associated with it\n",
    "\"\"\"\n",
    "\n",
    "dictionary = {'foo' : 1}\n",
    "print(dictionary)"
   ]
  },
  {
   "cell_type": "code",
   "execution_count": 79,
   "metadata": {},
   "outputs": [
    {
     "name": "stdout",
     "output_type": "stream",
     "text": [
      "1\n",
      "True\n"
     ]
    }
   ],
   "source": [
    "\"\"\"\n",
    "Accessing data in the dictionary is done through the 'keys' that exist in it. If the key does not exist it will raise an error\n",
    "\"\"\"\n",
    "\n",
    "dictionary = {'foo' : 1}\n",
    "\n",
    "print(dictionary['foo'])\n",
    "\n",
    "# Similarly to lists we can use the 'in' to check if a key exists\n",
    "print('foo' in dictionary)\n",
    "\n"
   ]
  },
  {
   "cell_type": "code",
   "execution_count": 80,
   "metadata": {},
   "outputs": [
    {
     "name": "stdout",
     "output_type": "stream",
     "text": [
      "First {'foo': 1, 'bar': 2}\n",
      "Second {'foo': 1, 'bar': 'Hello'}\n",
      "Third {'bar': 'Hello'}\n"
     ]
    }
   ],
   "source": [
    "\"\"\"\n",
    "Adding data to a dictionary just needs to specify a new keyword and it will be created (if it doesn't exist) OR updated (if it exists).\n",
    "To delete data we simply use 'del' to remove the entry of the dictionary\n",
    "\"\"\"\n",
    "\n",
    "dictionary = {'foo' : 1}\n",
    "\n",
    "# Creating new key\n",
    "dictionary['bar'] = 2\n",
    "print(\"First\", dictionary)\n",
    "\n",
    "# Changing value of previously existing key\n",
    "dictionary['bar'] = 'Hello'\n",
    "print(\"Second\", dictionary)\n",
    "\n",
    "# To delete an entry we use 'del' to remove it\n",
    "del dictionary['foo']\n",
    "print(\"Third\", dictionary)\n"
   ]
  },
  {
   "cell_type": "code",
   "execution_count": 81,
   "metadata": {},
   "outputs": [
    {
     "name": "stdout",
     "output_type": "stream",
     "text": [
      "1\n",
      "2\n",
      "Key foo has a value of 1\n",
      "Key bar has a value of 2\n"
     ]
    }
   ],
   "source": [
    "# We can find all of the keys and values with the .keys() and .values() functions\n",
    "dictionary = {'foo' : 1, 'bar' : 2}\n",
    "\n",
    "for key in dictionary.values():\n",
    "    print(key)\n",
    "\n",
    "\n",
    "# To access keys and values at the same time we can do:\n",
    "for key, value in dictionary.items():\n",
    "    print(\"Key {} has a value of {}\".format(key, value))"
   ]
  },
  {
   "cell_type": "code",
   "execution_count": 82,
   "metadata": {},
   "outputs": [
    {
     "name": "stdout",
     "output_type": "stream",
     "text": [
      "{0: 'a', 1: 'b', 2: 'c'}\n"
     ]
    }
   ],
   "source": [
    "\"\"\"\n",
    "Similarly to list comprehensions we can also do dictionary-comprehensions\n",
    "\"\"\"\n",
    "foo = {key : value for key, value in enumerate(['a','b','c'])}\n",
    "\n",
    "print(foo)"
   ]
  },
  {
   "cell_type": "markdown",
   "metadata": {},
   "source": [
    "## Functions"
   ]
  },
  {
   "cell_type": "code",
   "execution_count": 83,
   "metadata": {},
   "outputs": [
    {
     "name": "stdout",
     "output_type": "stream",
     "text": [
      "7\n",
      "7\n"
     ]
    }
   ],
   "source": [
    "foo = 1\n",
    "\n",
    "def add(foo, bar):\n",
    "    output = foo + bar\n",
    "    return output\n",
    "\n",
    "result = add(4,3)\n",
    "print(result)\n",
    "print(add(foo = 4, bar = 3))\n"
   ]
  },
  {
   "cell_type": "code",
   "execution_count": 84,
   "metadata": {},
   "outputs": [
    {
     "name": "stdout",
     "output_type": "stream",
     "text": [
      "(0, 0) | (1, 1)\n",
      "(0, 0) | (1, 1)\n"
     ]
    }
   ],
   "source": [
    "\"\"\"\n",
    "The functions can return any given number of parameters\n",
    "\"\"\"\n",
    "\n",
    "def coordinates():\n",
    "    return (0,0), (1,1)\n",
    "\n",
    "pairs = coordinates() \n",
    "print(pairs[0], '|' ,pairs[1])\n",
    "\n",
    "first_elem, second_elem = coordinates()\n",
    "print(first_elem, '|' ,second_elem)"
   ]
  },
  {
   "cell_type": "code",
   "execution_count": 85,
   "metadata": {},
   "outputs": [
    {
     "name": "stdout",
     "output_type": "stream",
     "text": [
      "First name: Andre; Second_name = \n",
      "First name: Andre; Second_name = Silva\n"
     ]
    }
   ],
   "source": [
    "\"\"\"\n",
    "It is possible to select default values for the arguments\n",
    "\"\"\"\n",
    "\n",
    "def print_name(first_name, second_name = ''):\n",
    "    print(\"First name: {}; Second_name = {}\".format(first_name, second_name))\n",
    "\n",
    "print_name('Andre')\n",
    "print_name(\"Andre\", 'Silva')"
   ]
  },
  {
   "cell_type": "code",
   "execution_count": 86,
   "metadata": {},
   "outputs": [
    {
     "name": "stdout",
     "output_type": "stream",
     "text": [
      "Values: [1]\n",
      "Values: [1, 1]\n",
      "Values: [1, 1, 1]\n"
     ]
    }
   ],
   "source": [
    "\"\"\"\n",
    "However, the data type of some default arguments might \"remember\" previous values\n",
    "\"\"\"\n",
    "\n",
    "def add_to_list(new_entry, values = []):\n",
    "    values.append(new_entry)\n",
    "    print(\"Values: {}\".format(values))\n",
    "\n",
    "# 'values' list is empty\n",
    "add_to_list(1)\n",
    "\n",
    "# 'values' list has the entry from the previous call\n",
    "add_to_list(1)\n",
    "\n",
    "# 'values' list has the entries from the two previous calls\n",
    "add_to_list(1)\n",
    "\n"
   ]
  },
  {
   "cell_type": "code",
   "execution_count": 87,
   "metadata": {},
   "outputs": [
    {
     "name": "stdout",
     "output_type": "stream",
     "text": [
      "First value: 1\n",
      "other arguments: (2, 3)\n",
      "Keyword arguments: {'last_value': 10}\n"
     ]
    }
   ],
   "source": [
    "\"\"\"\n",
    "To pass an unknown number of elements we can use the '*' and '**' notation\n",
    "\n",
    "By convention, a function that is able to accept a (previously) unknow number of elements is written in the form:\n",
    "\n",
    "def func(*args, **kwargs):\n",
    "    <do something> \n",
    "\n",
    "-> '*args' will accept all of the arguments that surpass the number of arguments defined in the function itself. The values are stored in a tuple, with the\n",
    "input order. By default is an empty tuple\n",
    "\n",
    "-> '**kwargs', short for key-word arguments, will store all of the named arguments (foo=<something>) that are not defined in the function arguments. The values are stored in a dictionary and, by default, is an empty dict\n",
    "\"\"\"\n",
    "\n",
    "\n",
    "def function(first_value, *args, **kwargs):\n",
    "    print(\"First value: {}\\nother arguments: {}\\nKeyword arguments: {}\".format(first_value, args, kwargs))\n",
    "\n",
    "function(1,2,3, last_value=10)\n",
    "\n"
   ]
  },
  {
   "cell_type": "markdown",
   "metadata": {},
   "source": [
    "## Documentation"
   ]
  },
  {
   "cell_type": "code",
   "execution_count": 88,
   "metadata": {},
   "outputs": [],
   "source": [
    "\n",
    "def add(foo, bar):\n",
    "    \"\"\"\n",
    "    docstring: The goal is to explain what this function does, following numpy docstring convention \n",
    "    (https://numpydoc.readthedocs.io/en/latest/format.html#numpydoc-docstring-guide)\n",
    "\n",
    "    Parameters\n",
    "    ============\n",
    "    foo : int or float\n",
    "        Description of parameter foo.  \n",
    "         \n",
    "    bar : int or float\n",
    "        Description of parameter bar.  \n",
    "    \n",
    "    Returns\n",
    "    ==========\n",
    "    sum : int or float\n",
    "        The sum of parameter foo and bar\n",
    "\n",
    "    \"\"\"\n",
    "    return foo + bar"
   ]
  },
  {
   "cell_type": "markdown",
   "metadata": {
    "collapsed": false
   },
   "source": [
    "## Type hints\n",
    "\n",
    "https://docs.python.org/3/library/typing.html"
   ]
  },
  {
   "cell_type": "code",
   "execution_count": 1,
   "metadata": {
    "ExecuteTime": {
     "end_time": "2024-02-02T15:40:27.979927924Z",
     "start_time": "2024-02-02T15:40:27.935457693Z"
    },
    "collapsed": false
   },
   "outputs": [
    {
     "name": "stdout",
     "output_type": "stream",
     "text": [
      "3\n"
     ]
    }
   ],
   "source": [
    "from typing import Iterable, Union\n",
    "\n",
    "\n",
    "def add_two_numbers(a: Union[float, int], b: Union[float, int]) -> float:\n",
    "    \"\"\"\n",
    "    Sums two numbers\n",
    "    :param a: float or integer\n",
    "    :param b: float or integer\n",
    "    :return: float\n",
    "    \"\"\"\n",
    "    return a + b \n",
    "\n",
    "\n",
    "def sum_list(a: Iterable[Union[float, int]]) -> float:\n",
    "    \"\"\"\n",
    "    Sums all entries of an iterable element\n",
    "    :param a: iterable element\n",
    "    :return: Sum, float\n",
    "    \"\"\"\n",
    "    return sum(a)\n",
    "\n",
    "\n",
    "sum_list(\"aa\")"
   ]
  },
  {
   "cell_type": "markdown",
   "metadata": {},
   "source": [
    "## Exceptions: How to handle errors\n",
    "\n",
    "Catching the errors of the program"
   ]
  },
  {
   "cell_type": "code",
   "execution_count": 89,
   "metadata": {},
   "outputs": [
    {
     "name": "stdout",
     "output_type": "stream",
     "text": [
      "Result: 3\n",
      "\n",
      "Caught a type error\n",
      "Result: 0\n"
     ]
    }
   ],
   "source": [
    "def sum_values(foo, bar):\n",
    "    total_sum = 0\n",
    "    try:\n",
    "        total_sum = foo + bar\n",
    "    except TypeError:\n",
    "        print('Caught a type error')\n",
    "    except Exception as e:\n",
    "        print(\"Caught something unexpected\")\n",
    "        \n",
    "    return total_sum\n",
    "\n",
    "print(\"Result: {}\\n\".format(sum_values(2,1)))\n",
    "print(f\"Result: {sum_values(1,'a')}\")"
   ]
  },
  {
   "cell_type": "markdown",
   "metadata": {},
   "source": [
    "## Raising our own errors"
   ]
  },
  {
   "cell_type": "code",
   "execution_count": 90,
   "metadata": {},
   "outputs": [
    {
     "ename": "Exception",
     "evalue": "",
     "output_type": "error",
     "traceback": [
      "\u001b[0;31m---------------------------------------------------------------------------\u001b[0m",
      "\u001b[0;31mException\u001b[0m                                 Traceback (most recent call last)",
      "\u001b[0;32m/tmp/ipykernel_12043/2769387018.py\u001b[0m in \u001b[0;36m<module>\u001b[0;34m\u001b[0m\n\u001b[1;32m      4\u001b[0m \u001b[0;34m\u001b[0m\u001b[0m\n\u001b[1;32m      5\u001b[0m \u001b[0;31m# We can raise a general Exception:\u001b[0m\u001b[0;34m\u001b[0m\u001b[0;34m\u001b[0m\u001b[0;34m\u001b[0m\u001b[0m\n\u001b[0;32m----> 6\u001b[0;31m \u001b[0;32mraise\u001b[0m \u001b[0mException\u001b[0m\u001b[0;34m\u001b[0m\u001b[0;34m\u001b[0m\u001b[0m\n\u001b[0m\u001b[1;32m      7\u001b[0m \u001b[0;34m\u001b[0m\u001b[0m\n\u001b[1;32m      8\u001b[0m \u001b[0;34m\u001b[0m\u001b[0m\n",
      "\u001b[0;31mException\u001b[0m: "
     ]
    }
   ],
   "source": [
    "\"\"\"\n",
    "There are two different ways of manually raising an Exception\n",
    "\"\"\"\n",
    "\n",
    "# We can raise a general Exception:\n",
    "raise Exception\n",
    "\n"
   ]
  },
  {
   "cell_type": "code",
   "execution_count": 91,
   "metadata": {},
   "outputs": [
    {
     "ename": "Exception",
     "evalue": "Something went wrong",
     "output_type": "error",
     "traceback": [
      "\u001b[0;31m---------------------------------------------------------------------------\u001b[0m",
      "\u001b[0;31mException\u001b[0m                                 Traceback (most recent call last)",
      "\u001b[0;32m/tmp/ipykernel_12043/3982505422.py\u001b[0m in \u001b[0;36m<module>\u001b[0;34m\u001b[0m\n\u001b[1;32m      1\u001b[0m \u001b[0;31m# pass a message with it:\u001b[0m\u001b[0;34m\u001b[0m\u001b[0;34m\u001b[0m\u001b[0;34m\u001b[0m\u001b[0m\n\u001b[0;32m----> 2\u001b[0;31m \u001b[0;32mraise\u001b[0m \u001b[0mException\u001b[0m\u001b[0;34m(\u001b[0m\u001b[0;34m\"Something went wrong\"\u001b[0m\u001b[0;34m)\u001b[0m\u001b[0;34m\u001b[0m\u001b[0;34m\u001b[0m\u001b[0m\n\u001b[0m",
      "\u001b[0;31mException\u001b[0m: Something went wrong"
     ]
    }
   ],
   "source": [
    "# pass a message with it:\n",
    "raise Exception(\"Something went wrong\")"
   ]
  },
  {
   "cell_type": "code",
   "execution_count": 92,
   "metadata": {},
   "outputs": [
    {
     "ename": "ValueError",
     "evalue": "This value is not right",
     "output_type": "error",
     "traceback": [
      "\u001b[0;31m---------------------------------------------------------------------------\u001b[0m",
      "\u001b[0;31mValueError\u001b[0m                                Traceback (most recent call last)",
      "\u001b[0;32m/tmp/ipykernel_12043/994826261.py\u001b[0m in \u001b[0;36m<module>\u001b[0;34m\u001b[0m\n\u001b[1;32m      1\u001b[0m \u001b[0;31m# Or do the same, albeit with a more focused exception:\u001b[0m\u001b[0;34m\u001b[0m\u001b[0;34m\u001b[0m\u001b[0;34m\u001b[0m\u001b[0m\n\u001b[0;32m----> 2\u001b[0;31m \u001b[0;32mraise\u001b[0m \u001b[0mValueError\u001b[0m\u001b[0;34m(\u001b[0m\u001b[0;34m\"This value is not right\"\u001b[0m\u001b[0;34m)\u001b[0m\u001b[0;34m\u001b[0m\u001b[0;34m\u001b[0m\u001b[0m\n\u001b[0m\u001b[1;32m      3\u001b[0m \u001b[0;34m\u001b[0m\u001b[0m\n",
      "\u001b[0;31mValueError\u001b[0m: This value is not right"
     ]
    }
   ],
   "source": [
    "# Or do the same, albeit with a more focused exception:\n",
    "raise ValueError(\"This value is not right\")\n"
   ]
  },
  {
   "cell_type": "code",
   "execution_count": 93,
   "metadata": {},
   "outputs": [
    {
     "name": "stdout",
     "output_type": "stream",
     "text": [
      "I caught the Custom Error\n"
     ]
    },
    {
     "ename": "CustomError",
     "evalue": "This is my custom error",
     "output_type": "error",
     "traceback": [
      "\u001b[0;31m---------------------------------------------------------------------------\u001b[0m",
      "\u001b[0;31mCustomError\u001b[0m                               Traceback (most recent call last)",
      "\u001b[0;32m/tmp/ipykernel_12043/2764176063.py\u001b[0m in \u001b[0;36m<module>\u001b[0;34m\u001b[0m\n\u001b[1;32m      8\u001b[0m \u001b[0;32mexcept\u001b[0m \u001b[0mCustomError\u001b[0m \u001b[0;32mas\u001b[0m \u001b[0me\u001b[0m\u001b[0;34m:\u001b[0m\u001b[0;34m\u001b[0m\u001b[0;34m\u001b[0m\u001b[0m\n\u001b[1;32m      9\u001b[0m     \u001b[0mprint\u001b[0m\u001b[0;34m(\u001b[0m\u001b[0;34m\"I caught the Custom Error\"\u001b[0m\u001b[0;34m)\u001b[0m\u001b[0;34m\u001b[0m\u001b[0;34m\u001b[0m\u001b[0m\n\u001b[0;32m---> 10\u001b[0;31m     \u001b[0;32mraise\u001b[0m \u001b[0me\u001b[0m\u001b[0;34m\u001b[0m\u001b[0;34m\u001b[0m\u001b[0m\n\u001b[0m",
      "\u001b[0;32m/tmp/ipykernel_12043/2764176063.py\u001b[0m in \u001b[0;36m<module>\u001b[0;34m\u001b[0m\n\u001b[1;32m      5\u001b[0m \u001b[0;34m\u001b[0m\u001b[0m\n\u001b[1;32m      6\u001b[0m \u001b[0;32mtry\u001b[0m\u001b[0;34m:\u001b[0m\u001b[0;34m\u001b[0m\u001b[0;34m\u001b[0m\u001b[0m\n\u001b[0;32m----> 7\u001b[0;31m     \u001b[0;32mraise\u001b[0m \u001b[0mCustomError\u001b[0m\u001b[0;34m(\u001b[0m\u001b[0;34m\"This is my custom error\"\u001b[0m\u001b[0;34m)\u001b[0m\u001b[0;34m\u001b[0m\u001b[0;34m\u001b[0m\u001b[0m\n\u001b[0m\u001b[1;32m      8\u001b[0m \u001b[0;32mexcept\u001b[0m \u001b[0mCustomError\u001b[0m \u001b[0;32mas\u001b[0m \u001b[0me\u001b[0m\u001b[0;34m:\u001b[0m\u001b[0;34m\u001b[0m\u001b[0;34m\u001b[0m\u001b[0m\n\u001b[1;32m      9\u001b[0m     \u001b[0mprint\u001b[0m\u001b[0;34m(\u001b[0m\u001b[0;34m\"I caught the Custom Error\"\u001b[0m\u001b[0;34m)\u001b[0m\u001b[0;34m\u001b[0m\u001b[0;34m\u001b[0m\u001b[0m\n",
      "\u001b[0;31mCustomError\u001b[0m: This is my custom error"
     ]
    }
   ],
   "source": [
    "# You can also create your own Exceptions:\n",
    "\n",
    "class CustomError(Exception):\n",
    "    ...\n",
    "\n",
    "try:\n",
    "    raise CustomError(\"This is my custom error\")\n",
    "except CustomError as e:\n",
    "    print(\"I caught the Custom Error\")\n",
    "    raise e"
   ]
  },
  {
   "cell_type": "markdown",
   "metadata": {},
   "source": [
    "## Data structures: Classes\n",
    "\n",
    "From Python docs (https://docs.python.org/3/tutorial/classes.html):\n",
    "\n",
    "Classes provide a means of bundling data and functionality together. Creating a new class creates a new type of object, allowing new instances of that type to be made. Each class instance can have attributes attached to it for maintaining its state. Class instances can also have methods (defined by its class) for modifying its state.\n"
   ]
  },
  {
   "cell_type": "code",
   "execution_count": 94,
   "metadata": {},
   "outputs": [
    {
     "name": "stdout",
     "output_type": "stream",
     "text": [
      "Class Container, with stored values: [2], that sum up to 2\n",
      "Class Container, with stored values: [4], that sum up to 4\n"
     ]
    }
   ],
   "source": [
    "class Container:\n",
    "    def __init__(self, values):                                                                                \n",
    "        self.storage = values\n",
    "        \n",
    "    def store(self, value):\n",
    "        self.storage.append(value)\n",
    "\n",
    "    def sum_storage(self):\n",
    "        \"\"\"\n",
    "            Python's sum function (https://docs.python.org/3/library/functions.html#sum) allows to sum of of the elements of the list\n",
    "        \"\"\"\n",
    "        return sum(self.storage)\n",
    "\n",
    "    def __str__(self):\n",
    "        \"\"\"\n",
    "        From Python docs: (https://docs.python.org/3/reference/datamodel.html#object.__str__)\n",
    "            Compute the “informal” or nicely printable string representation of an object. The return value must be a string object.\n",
    "            This method differs from object.__repr__() in that there is no expectation that __str__() return a valid Python expression: \n",
    "            a more convenient or concise representation can be used.\n",
    "        \"\"\"\n",
    "        return \"Class Container, with stored values: {}, that sum up to {}\".format(self.storage, self.sum_storage())\n",
    "    \n",
    "    def __repr__(self):\n",
    "        \"\"\"\n",
    "        From Python docs (https://docs.python.org/3/reference/datamodel.html#object.__repr__):\n",
    "            Compute the “official” string representation of an object. If at all possible, this should look like a valid Python expression that could be used to recreate an object with the same              value (given an appropriate environment). If this is not possible, a string of the form <...some useful description...> should be returned. The return value must be a string object.              If a class defines __repr__() but not __str__(), then __repr__() is also used when an “informal” string representation of instances of that class is required.\n",
    "        \"\"\"\n",
    "        return \"Container({})\".format(self.storage)\n",
    "\n",
    "A = Container([2])\n",
    "B = Container([4])\n",
    "print(A)\n",
    "print(B)\n",
    "\n"
   ]
  },
  {
   "cell_type": "code",
   "execution_count": 95,
   "metadata": {},
   "outputs": [
    {
     "name": "stdout",
     "output_type": "stream",
     "text": [
      "Class Container, with stored values: [2, 1], that sum up to 3\n",
      "Sum of stored values: 3\n"
     ]
    }
   ],
   "source": [
    "A.store(1)\n",
    "print(A)\n",
    "print(\"Sum of stored values: {}\".format(A.sum_storage()))"
   ]
  },
  {
   "cell_type": "markdown",
   "metadata": {},
   "source": [
    "# Handling files\n",
    "\n",
    "This portion of the notebook deals with reading/writing to files using pure Python."
   ]
  },
  {
   "cell_type": "code",
   "execution_count": 96,
   "metadata": {},
   "outputs": [
    {
     "name": "stdout",
     "output_type": "stream",
     "text": [
      "0 1\n",
      "\n",
      "1 1\n",
      "\n",
      "2 2\n",
      "\n",
      "3 3\n",
      "File is closed:  False\n",
      "File is closed:  True\n"
     ]
    }
   ],
   "source": [
    "\"\"\"\n",
    "Opening a file:\n",
    "    - To open a file we must provide:\n",
    "        i) the path to the file\n",
    "        ii) the access mode\n",
    "    - We can open the file in two different ways: \n",
    "        i) manually\n",
    "        ii) with a context manager\n",
    "\n",
    "File modes:\n",
    "\n",
    "    - 'w' - write a new file\n",
    "    - 'a' - write to end of the file\n",
    "    - 'r' - read a file (default value)\n",
    "    - 'wb' - write a binary file\n",
    "    - 'rb' - read a binary file\n",
    "\n",
    "\"\"\"\n",
    "\n",
    "f = open('data.txt', mode = 'r')\n",
    "\n",
    "for line in f:\n",
    "    print(line)\n",
    "\n",
    "print(\"File is closed: \", f.closed)\n",
    "f.close()\n",
    "print(\"File is closed: \", f.closed)\n"
   ]
  },
  {
   "cell_type": "code",
   "execution_count": 97,
   "metadata": {},
   "outputs": [
    {
     "name": "stdout",
     "output_type": "stream",
     "text": [
      "0 1\n",
      "\n",
      "1 1\n",
      "\n",
      "2 2\n",
      "\n",
      "3 3\n",
      "File is closed:  False\n"
     ]
    }
   ],
   "source": [
    "\"\"\"\n",
    "Using a context manager allows to avoid manually closing files, even if an exception occurs!!\n",
    "\"\"\"\n",
    "with open('data.txt', mode = 'r') as file:\n",
    "    for line in file:\n",
    "        print(line)\n",
    "\n",
    "    print(\"File is closed: \", file.closed)"
   ]
  },
  {
   "cell_type": "code",
   "execution_count": 98,
   "metadata": {},
   "outputs": [
    {
     "name": "stdout",
     "output_type": "stream",
     "text": [
      "File not found\n"
     ]
    }
   ],
   "source": [
    "\"\"\"\n",
    "If the path does not exist then an Exception (FileNotFoundError) will be thrown:\n",
    "\"\"\"\n",
    "\n",
    "try:\n",
    "    with open('foo.bar') as file:\n",
    "        pass \n",
    "except FileNotFoundError as exception:\n",
    "    print(\"File not found\")"
   ]
  },
  {
   "cell_type": "code",
   "execution_count": 99,
   "metadata": {},
   "outputs": [],
   "source": [
    "\"\"\"\n",
    "Writing to a file is similar to what we have done until now!\n",
    "However, if we don't add a new line character to the end of each line everything will be written to the same line\n",
    "\"\"\"\n",
    "\n",
    "with open('teste.txt', mode = 'w') as file:\n",
    "    file.write(\"Teste\\n\")\n"
   ]
  },
  {
   "cell_type": "markdown",
   "metadata": {},
   "source": [
    "# Importing modules\n",
    "\n",
    "Python’s standard library is very extensive, offering a wide range of efficient implementation of tools, ranging from mathematics to multiprocessing libraries (https://docs.python.org/3/library/). \n",
    "\n",
    "Not only do we have\n",
    "those that come already installed with Python, but it is also possible to install others from the Python Package Index (https://pypi.org/)."
   ]
  },
  {
   "cell_type": "code",
   "execution_count": 2,
   "metadata": {},
   "outputs": [
    {
     "data": {
      "text/plain": [
       "3"
      ]
     },
     "execution_count": 2,
     "metadata": {},
     "output_type": "execute_result"
    }
   ],
   "source": [
    "\"\"\"\n",
    "To use  the functions from a module we must first import it\n",
    "\"\"\"\n",
    "import statistics \n",
    "statistics.median([1, 3, 5])"
   ]
  },
  {
   "cell_type": "code",
   "execution_count": 101,
   "metadata": {},
   "outputs": [
    {
     "data": {
      "text/plain": [
       "3"
      ]
     },
     "execution_count": 101,
     "metadata": {},
     "output_type": "execute_result"
    }
   ],
   "source": [
    "\"\"\"\n",
    "If we want, it is also possible to import a single function\n",
    "\"\"\"\n",
    "\n",
    "from statistics import median \n",
    "median([1,3,5])"
   ]
  },
  {
   "cell_type": "code",
   "execution_count": 102,
   "metadata": {},
   "outputs": [
    {
     "data": {
      "text/plain": [
       "3"
      ]
     },
     "execution_count": 102,
     "metadata": {},
     "output_type": "execute_result"
    }
   ],
   "source": [
    "\"\"\"\n",
    "Or import the function using a different name for the function\n",
    "\"\"\"\n",
    "\n",
    "from statistics import median as python_median\n",
    "python_median([1,3,5])\n",
    "\n"
   ]
  },
  {
   "cell_type": "code",
   "execution_count": 103,
   "metadata": {},
   "outputs": [
    {
     "data": {
      "text/plain": [
       "3"
      ]
     },
     "execution_count": 103,
     "metadata": {},
     "output_type": "execute_result"
    }
   ],
   "source": [
    "\"\"\"\n",
    "Or import the module under a different name\n",
    "\"\"\"\n",
    "import statistics as python_stats\n",
    "python_stats.median([1,3,5])"
   ]
  },
  {
   "cell_type": "markdown",
   "metadata": {},
   "source": [
    "---\n",
    "\n",
    "# Handling the operating system\n",
    "\n",
    "Options:\n",
    "\n",
    "1) the os module: https://docs.python.org/3/library/os.html\n",
    "\n",
    "2) the /pathlib/ module: https://docs.python.org/3/library/pathlib.html\n",
    "\n"
   ]
  },
  {
   "cell_type": "code",
   "execution_count": 10,
   "metadata": {},
   "outputs": [
    {
     "name": "stdout",
     "output_type": "stream",
     "text": [
      "/home/amiguel/IAPythonCourses/Class_1\n",
      "/home/amiguel/IAPythonCourses\n",
      "('/', 'home', 'amiguel', 'IAPythonCourses', 'Class_1')\n"
     ]
    }
   ],
   "source": [
    "from pathlib import Path\n",
    "\n",
    "current_path = Path(\".\").absolute()\n",
    "print(current_path)\n",
    "print(current_path.parent)\n",
    "print(current_path.parts)"
   ]
  },
  {
   "cell_type": "code",
   "execution_count": 105,
   "metadata": {},
   "outputs": [
    {
     "name": "stdout",
     "output_type": "stream",
     "text": [
      "/home/amiguel/IAPythonCourses/Class_1/Class1_theo.ipynb\n",
      "/home/amiguel/IAPythonCourses/Class_1/Class1_solutions.ipynb\n",
      "/home/amiguel/IAPythonCourses/Class_1/teste.txt\n",
      "/home/amiguel/IAPythonCourses/Class_1/data.txt\n",
      "/home/amiguel/IAPythonCourses/Class_1/Class1_exercises.ipynb\n"
     ]
    }
   ],
   "source": [
    "# Iterate over all elements inside our folder.\n",
    "for path in current_path.iterdir():\n",
    "    print(path)\n"
   ]
  },
  {
   "cell_type": "code",
   "execution_count": 106,
   "metadata": {},
   "outputs": [
    {
     "name": "stdout",
     "output_type": "stream",
     "text": [
      "/home/amiguel/IAPythonCourses/Class_1/Class1_theo.ipynb\n",
      "/home/amiguel/IAPythonCourses/Class_1/Class1_solutions.ipynb\n",
      "/home/amiguel/IAPythonCourses/Class_1/Class1_exercises.ipynb\n"
     ]
    }
   ],
   "source": [
    "# Iterate over all elements inside the folder that match the given regex expression\n",
    "for path in current_path.glob(\"*.ipynb\"):\n",
    "    print(path)"
   ]
  },
  {
   "cell_type": "code",
   "execution_count": 110,
   "metadata": {},
   "outputs": [
    {
     "name": "stdout",
     "output_type": "stream",
     "text": [
      "Full path is: /home/amiguel/IAPythonCourses/Class_4/Figures/law.png\n",
      "Relative path to Figure folder: Class_4/Figures/law.png\n",
      "Filename:\n",
      "\tWithout extension:law\n",
      "\tWith extension: law.png\n",
      "Full path is: /home/amiguel/IAPythonCourses/Class_4/Figures/locks.png\n",
      "Relative path to Figure folder: Class_4/Figures/locks.png\n",
      "Filename:\n",
      "\tWithout extension:locks\n",
      "\tWith extension: locks.png\n",
      "Full path is: /home/amiguel/IAPythonCourses/Class_4/Figures/parallel_scheme.png\n",
      "Relative path to Figure folder: Class_4/Figures/parallel_scheme.png\n",
      "Filename:\n",
      "\tWithout extension:parallel_scheme\n",
      "\tWith extension: parallel_scheme.png\n",
      "Full path is: /home/amiguel/IAPythonCourses/Class_4/Figures/schedule.png\n",
      "Relative path to Figure folder: Class_4/Figures/schedule.png\n",
      "Filename:\n",
      "\tWithout extension:schedule\n",
      "\tWith extension: schedule.png\n"
     ]
    }
   ],
   "source": [
    "# How to get filenames / relative paths\n",
    "\n",
    "for path in current_path.parent.glob(\"**/Figures/*\"):\n",
    "    print(f\"Full path is: {path}\")\n",
    "    print(f\"Relative path to Figure folder: {path.relative_to(current_path.parent)}\")\n",
    "    print(f\"Filename:\\n\\tWithout extension:{path.stem}\\n\\tWith extension: {path.name}\")"
   ]
  },
  {
   "cell_type": "code",
   "execution_count": 11,
   "metadata": {},
   "outputs": [
    {
     "name": "stdout",
     "output_type": "stream",
     "text": [
      "Temporary folder exists: True\n",
      "Delete temporary folder\n",
      "Temporary folder exists: False\n"
     ]
    }
   ],
   "source": [
    "# Creating folders and deleting them\n",
    "\n",
    "temporary_path = current_path / \"tmp_folder\"\n",
    "temporary_path.mkdir(parents=True, # also create \"parent\" folders, if needed\n",
    "                     exist_ok=True # if False raises Exception\n",
    "                     )\n",
    "print(f\"Temporary folder exists: {temporary_path.exists()}\")\n",
    "# Delete the directory\n",
    "print(\"Delete temporary folder\")\n",
    "temporary_path.rmdir()\n",
    "print(f\"Temporary folder exists: {temporary_path.exists()}\")\n"
   ]
  }
 ],
 "metadata": {
  "kernelspec": {
   "display_name": "Python 3 (ipykernel)",
   "language": "python",
   "name": "python3"
  },
  "language_info": {
   "codemirror_mode": {
    "name": "ipython",
    "version": 3
   },
   "file_extension": ".py",
   "mimetype": "text/x-python",
   "name": "python",
   "nbconvert_exporter": "python",
   "pygments_lexer": "ipython3",
   "version": "3.8.12"
  },
  "metadata": {
   "interpreter": {
    "hash": "fb347f9af4bf6163c7614b75d55774a7b24e9b50914390cba35ad68b1e6aa2bf"
   }
  }
 },
 "nbformat": 4,
 "nbformat_minor": 2
}
