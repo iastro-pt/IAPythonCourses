{
 "cells": [
  {
   "cell_type": "markdown",
   "metadata": {},
   "source": [
    "# Finding spectral types\n",
    "\n",
    "a) Consider the region of 1 deg around Helvetios coordinates and store their spectral types\n",
    "\n",
    "b) Find the different spectral types that exist in this region \n",
    "\n",
    "\n",
    "## Hints:\n",
    "- Remember Class 2"
   ]
  },
  {
   "cell_type": "markdown",
   "metadata": {},
   "source": [
    "# Median filter\n",
    "\n",
    "In the previous classes we have implemented the median filter using \"pure\" Python and a scientific library.\n",
    "\n",
    "The goals, for this Class are:\n",
    "\n",
    "a) To re-implement the algorithm paralelly, using Python's multiprocessing library. \n",
    "\n",
    "        a-1) Using pure Python to compute the median filter \n",
    "\n",
    "        a-2) Using the median filter of scipy \n",
    "\n",
    "    \n",
    "b) Apply it to the HARPS spectra that was previously given\n",
    "\n",
    "c) Plot the evolution of computational time with the number of processes\n",
    "\n",
    "\n",
    "\n",
    "## Hints:\n",
    "\n",
    "- It might be better to use the divide the orders as 'tasks'"
   ]
  }
 ],
 "metadata": {
  "kernelspec": {
   "display_name": "Python 3.8.7 64-bit ('env': virtualenv)",
   "language": "python",
   "name": "python38764bitenvvirtualenv2d7cfffefd5b47ad84c63b1ce7a1601a"
  },
  "language_info": {
   "codemirror_mode": {
    "name": "ipython",
    "version": 3
   },
   "file_extension": ".py",
   "mimetype": "text/x-python",
   "name": "python",
   "nbconvert_exporter": "python",
   "pygments_lexer": "ipython3",
   "version": "3.8.7"
  },
  "metadata": {
   "interpreter": {
    "hash": "fb347f9af4bf6163c7614b75d55774a7b24e9b50914390cba35ad68b1e6aa2bf"
   }
  }
 },
 "nbformat": 4,
 "nbformat_minor": 2
}
